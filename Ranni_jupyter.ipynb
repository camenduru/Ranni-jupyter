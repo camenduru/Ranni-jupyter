{
  "cells": [
    {
      "cell_type": "markdown",
      "metadata": {
        "id": "view-in-github"
      },
      "source": [
        "[![Open In Colab](https://colab.research.google.com/assets/colab-badge.svg)](https://colab.research.google.com/github/camenduru/Ranni-jupyter/blob/main/Ranni_jupyter.ipynb)"
      ]
    },
    {
      "cell_type": "code",
      "execution_count": null,
      "metadata": {
        "id": "VjYy0F2gZIPR"
      },
      "outputs": [],
      "source": [
        "%cd /content\n",
        "!git clone -b dev https://github.com/camenduru/Ranni\n",
        "%cd /content/Ranni\n",
        "\n",
        "!pip install -q einops==0.3.0 gradio==3.50.2 omegaconf==2.1.1 kornia==0.6 open_clip_torch==2.24.0 invisible-watermark>=0.1.5\n",
        "!pip install -q timm==0.6.12 addict==2.4.0 yapf==0.32.0 prettytable==3.6.0 peft==0.3.0 basicsr==1.4.2\n",
        "\n",
        "!python demo_gradio.py"
      ]
    }
  ],
  "metadata": {
    "accelerator": "GPU",
    "colab": {
      "gpuType": "T4",
      "provenance": []
    },
    "kernelspec": {
      "display_name": "Python 3",
      "name": "python3"
    },
    "language_info": {
      "name": "python"
    }
  },
  "nbformat": 4,
  "nbformat_minor": 0
}
